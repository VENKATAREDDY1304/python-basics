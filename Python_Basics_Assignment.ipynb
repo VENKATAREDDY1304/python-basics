{
  "nbformat": 4,
  "nbformat_minor": 0,
  "metadata": {
    "colab": {
      "provenance": []
    },
    "kernelspec": {
      "name": "python3",
      "display_name": "Python 3"
    },
    "language_info": {
      "name": "python"
    }
  },
  "cells": [
    {
      "cell_type": "markdown",
      "source": [
        "**Python Basics\n",
        " Assignment**\n"
      ],
      "metadata": {
        "id": "bP2an3-7cFdJ"
      }
    },
    {
      "cell_type": "markdown",
      "source": [
        "\n",
        "\n",
        "**Python Basics Questions**\n",
        "\n",
        "\n",
        "1. What is Python, and why is it popular?\n",
        "\n",
        " Sol: Python is a high-level programming language, it is commonly used for developing websites and software.\n",
        " It is very easy to learn and has inbuilt functions for easy learning\n",
        " it is very reliable based on these properties it is very popular.\n",
        "\n",
        "2. What is an interpreter in Python?\n",
        "\n",
        " Sol: we are writing a python code in a text file and saving it with the extension of \"file name.py\" but the The system doesn't know how to run the code. For that, there is a program installed in our computer called \"interpreter,\" which is a variant of \" Python IDE\" or \"Python 3.\"\n",
        "\n",
        "3. What are pre-defined keywords in Python?\n",
        "\n",
        " Sol: the predefined word in Python that reserves for working programs That has a specific meaning.\n",
        "\n",
        "4. Can keywords be used as variable names?\n",
        "\n",
        " sol: no, using a keyword as a variable name is impossible.\n",
        "\n",
        "5. What is mutability in Python?\n",
        "\n",
        " sol: the ability of an object to be changed after it is creatd is called \"mutability\".\n",
        "\n",
        "6. Why are lists mutable, but tuples are immutable?\n",
        "\n",
        " sol: tuples are more memory-efficient compared to lists. Tuples can't be changed after they're created, but lists can be modified.\n",
        "\n",
        "7. What is the difference between “==” and “is” operators in Python?\n",
        "\n",
        "  sol: The '==' is known as the equality operator. The 'is' is known as the identity operator. The == operator helps us compare the equality of objects. The is operator helps us check whether different variables point towards a similar object in the memory.\n",
        "\n",
        "8. What are logical operators in Python?\n",
        "\n",
        " sol: In Python, logical operators are used to combine multiple conditions together and evaluate them as a single boolean expression. There are three types of logical operators in Python: `and`, `or`, and `not`.\n",
        "\n",
        "9. What is type casting in Python?\n",
        "\n",
        " sol: typecasting, also known as type conversion, is a process that converts a variable's data type into another data type.\n",
        "\n",
        "10. What is the difference between implicit and explicit type casting?\n",
        "\n",
        " sol: Explicit type conversion in programming is done manually by the programmer, while implicit conversion is handled automatically by the compiler.\n",
        "\n",
        "11. What is the purpose of conditional statements in Python?\n",
        "\n",
        " sol: A conditional statement as the name suggests itself, is used to handle conditions in your program. These statements guide the program while making decisions based on the conditions encountered by the program.\n",
        "\n",
        "12. How does the elif statement work?\n",
        "\n",
        " sol: in python \"elif\" is the short form of \"else if\" and is used when the first if statement isn't true, but you want to check for another condition.\n",
        "\n",
        "13. What is the difference between for and while loops?\n",
        "\n",
        " sol: \"for loop\" is used when the number of iterations is known, whereas execution is done in a \"while loop\" until the statement in the program is proved wrong.\n",
        "\n",
        "14. Describe a scenario where a while loop is more suitable than a for loop?\n",
        "\n",
        " sol: In contrast to a 'for' loop, which is generally used when the number of iterations is known beforehand, a 'while' loop is ideal for situations where the number of iterations is not predetermined and depends on some dynamic condition."
      ],
      "metadata": {
        "id": "P17t3Q7Ol5AJ"
      }
    },
    {
      "cell_type": "markdown",
      "source": [
        "**Practical Questions**\n",
        "\n",
        "\n"
      ],
      "metadata": {
        "id": "uucq8R8xrEOV"
      }
    },
    {
      "cell_type": "code",
      "source": [
        "# 1. Write a Python program to print \"Hello, World!\"\n",
        "Hl=\"Hello,world!\"   # Hl is variable\n",
        "print(Hl)"
      ],
      "metadata": {
        "colab": {
          "base_uri": "https://localhost:8080/"
        },
        "id": "U1Vu77_Ire7r",
        "outputId": "309b2276-8bd0-4d7d-8170-eba89f2512bf"
      },
      "execution_count": 3,
      "outputs": [
        {
          "output_type": "stream",
          "name": "stdout",
          "text": [
            "Hello,world!\n"
          ]
        }
      ]
    },
    {
      "cell_type": "code",
      "source": [
        "# 2. Write a Python program that displays your name and age\n",
        "Name=\"Venkata Reddy\"   # \" Name and AGE \" are variables\n",
        "Age=24\n",
        "print(Name)\n",
        "print(Age)"
      ],
      "metadata": {
        "colab": {
          "base_uri": "https://localhost:8080/"
        },
        "id": "zzHFC4-SrwgW",
        "outputId": "adedfe02-238a-449d-dc5f-7845463cb8bb"
      },
      "execution_count": 2,
      "outputs": [
        {
          "output_type": "stream",
          "name": "stdout",
          "text": [
            "Venkata Reddy\n",
            "24\n"
          ]
        }
      ]
    },
    {
      "cell_type": "code",
      "source": [
        "# 3. Write code to print all the pre-defined keywords in Python using the keyword library\n",
        "import keyword\n",
        "print(\"The list of keywords is : \")\n",
        "print(keyword.kwlist[0:10])\n",
        "print(keyword.kwlist[10:20])\n",
        "print(keyword.kwlist[20:30])\n",
        "print(keyword.kwlist[30:])"
      ],
      "metadata": {
        "colab": {
          "base_uri": "https://localhost:8080/"
        },
        "id": "FwRdChWqsPKe",
        "outputId": "479da8f6-1d8c-4fdf-e8fb-36d061d6ed48"
      },
      "execution_count": 8,
      "outputs": [
        {
          "output_type": "stream",
          "name": "stdout",
          "text": [
            "The list of keywords is : \n",
            "['False', 'None', 'True', 'and', 'as', 'assert', 'async', 'await', 'break', 'class']\n",
            "['continue', 'def', 'del', 'elif', 'else', 'except', 'finally', 'for', 'from', 'global']\n",
            "['if', 'import', 'in', 'is', 'lambda', 'nonlocal', 'not', 'or', 'pass', 'raise']\n",
            "['return', 'try', 'while', 'with', 'yield']\n"
          ]
        }
      ]
    },
    {
      "cell_type": "code",
      "source": [
        "# 4. Write a program that checks if a given word is a Python keyword.\n",
        "import keyword\n",
        "word=input(\"enter word \\n\")\n",
        "if(keyword.iskeyword(word)):\n",
        "  print(\"word in keyword list\")\n",
        "else:\n",
        "  print(\"word is not in keyword list\")\n",
        "  print(\"\\n\" ,word)"
      ],
      "metadata": {
        "colab": {
          "base_uri": "https://localhost:8080/"
        },
        "id": "pBYFUMdKtp2E",
        "outputId": "be7a6b5f-e0fb-4f8a-cdec-3fb1a115fe12"
      },
      "execution_count": 20,
      "outputs": [
        {
          "output_type": "stream",
          "name": "stdout",
          "text": [
            "enter word \n",
            "True\n",
            "word in keyword list\n"
          ]
        }
      ]
    },
    {
      "cell_type": "code",
      "source": [
        "# 5. Create a list and tuple in Python, and demonstrate how attempting to change an element works differently for each.\n",
        "              # Create a list and a tuple\n",
        "my_list = [10, 20, 30]\n",
        "my_tuple = (10, 20, 30)\n",
        "\n",
        "print(\"Original list:\", my_list)\n",
        "my_list[1] = 25  # Change the second element\n",
        "print(\"Modified list:\", my_list)\n",
        "print(\"\\nOriginal tuple:\", my_tuple)\n",
        "try:\n",
        "    my_tuple[1] = 25\n",
        "# This will raise an error because a tuple can't be changed once it is created\n",
        "except TypeError as e:\n",
        "    print(\"Error when trying to modify tuple:\", e)\n"
      ],
      "metadata": {
        "colab": {
          "base_uri": "https://localhost:8080/"
        },
        "id": "e11ub5QivSdc",
        "outputId": "800aa2be-b680-4c57-e470-1faf21e1f817"
      },
      "execution_count": 23,
      "outputs": [
        {
          "output_type": "stream",
          "name": "stdout",
          "text": [
            "Original list: [10, 20, 30]\n",
            "Modified list: [10, 25, 30]\n",
            "\n",
            "Original tuple: (10, 20, 30)\n",
            "Error when trying to modify tuple: 'tuple' object does not support item assignment\n"
          ]
        }
      ]
    },
    {
      "cell_type": "code",
      "source": [
        "# 6.Write a function to demonstrate the behavior of mutable and immutable arguments\n",
        "def demonstrate_arguments():\n",
        "    def modify_immutable(x): x += 1; print(f\"Immutable inside: {x}\")\n",
        "    def modify_mutable(lst): lst.append(4); print(f\"Mutable inside: {lst}\")\n",
        "\n",
        "    num = 10\n",
        "    print(f\"Immutable before: {num}\")\n",
        "    modify_immutable(num)\n",
        "    print(f\"Immutable after: {num}\")\n",
        "\n",
        "    nums = [1, 2, 3]\n",
        "    print(f\"Mutable before: {nums}\")\n",
        "    modify_mutable(nums)\n",
        "    print(f\"Mutable after: {nums}\")\n",
        "\n",
        "demonstrate_arguments()\n"
      ],
      "metadata": {
        "colab": {
          "base_uri": "https://localhost:8080/"
        },
        "id": "m6kUsDVDzCap",
        "outputId": "faab05b0-07f2-4eab-ad92-9e9f1344deb1"
      },
      "execution_count": 24,
      "outputs": [
        {
          "output_type": "stream",
          "name": "stdout",
          "text": [
            "Immutable before: 10\n",
            "Immutable inside: 11\n",
            "Immutable after: 10\n",
            "Mutable before: [1, 2, 3]\n",
            "Mutable inside: [1, 2, 3, 4]\n",
            "Mutable after: [1, 2, 3, 4]\n"
          ]
        }
      ]
    },
    {
      "cell_type": "code",
      "source": [
        "# 7. Write a function to demonstrate the behavior of mutable and immutable arguments\n",
        "def demonstrate_argument_behavior():\n",
        "    # Function to modify an immutable argument\n",
        "    def modify_immutable(arg):\n",
        "        print(f\"Immutable (before modification): {arg} (id: {id(arg)})\")\n",
        "        arg += \" World\"\n",
        "        print(f\"Immutable (after modification): {arg} (id: {id(arg)})\")\n",
        "\n",
        "    # Function to modify a mutable argument\n",
        "    def modify_mutable(arg):\n",
        "        print(f\"Mutable (before modification): {arg} (id: {id(arg)})\")\n",
        "        arg.append(4)\n",
        "        print(f\"Mutable (after modification): {arg} (id: {id(arg)})\")\n",
        "\n",
        "    # Demonstrating with an immutable type (string)\n",
        "    immutable_var = \"Hello\"\n",
        "    print(f\"Original immutable: {immutable_var} (id: {id(immutable_var)})\")\n",
        "    modify_immutable(immutable_var)\n",
        "    print(f\"After function call (immutable): {immutable_var} (id: {id(immutable_var)})\\n\")\n",
        "\n",
        "    # Demonstrating with a mutable type (list)\n",
        "    mutable_var = [1, 2, 3]\n",
        "    print(f\"Original mutable: {mutable_var} (id: {id(mutable_var)})\")\n",
        "    modify_mutable(mutable_var)\n",
        "    print(f\"After function call (mutable): {mutable_var} (id: {id(mutable_var)})\")\n",
        "\n",
        "# Call the function\n",
        "demonstrate_argument_behavior()\n"
      ],
      "metadata": {
        "colab": {
          "base_uri": "https://localhost:8080/"
        },
        "id": "DRlsCvga00JA",
        "outputId": "bfb268c9-f2a5-48ed-edbb-34325d53f6c4"
      },
      "execution_count": 25,
      "outputs": [
        {
          "output_type": "stream",
          "name": "stdout",
          "text": [
            "Original immutable: Hello (id: 134537831043184)\n",
            "Immutable (before modification): Hello (id: 134537831043184)\n",
            "Immutable (after modification): Hello World (id: 134537831978992)\n",
            "After function call (immutable): Hello (id: 134537831043184)\n",
            "\n",
            "Original mutable: [1, 2, 3] (id: 134537831043264)\n",
            "Mutable (before modification): [1, 2, 3] (id: 134537831043264)\n",
            "Mutable (after modification): [1, 2, 3, 4] (id: 134537831043264)\n",
            "After function call (mutable): [1, 2, 3, 4] (id: 134537831043264)\n"
          ]
        }
      ]
    },
    {
      "cell_type": "code",
      "source": [
        "# 8. Write a program to demonstrate the use of logical operators.\n",
        "a = True\n",
        "b = False\n",
        "\n",
        "                              # Using 'and' operator\n",
        "print(\"a and b: {a and b}\")  # False: Both must be True\n",
        "\n",
        "                             # Using 'or' operator\n",
        "print(\"a or b: {a or b}\")   # True: At least one must be True\n",
        "\n",
        "                             # Using 'not' operator\n",
        "print(\"not a: {not a}\")     # False: Reverses the value"
      ],
      "metadata": {
        "colab": {
          "base_uri": "https://localhost:8080/"
        },
        "id": "C1qDQJ0G1uGH",
        "outputId": "90028c88-33e9-4c1b-a248-48eb3a33404b"
      },
      "execution_count": 28,
      "outputs": [
        {
          "output_type": "stream",
          "name": "stdout",
          "text": [
            "a and b: {a and b}\n",
            "a or b: {a or b}\n",
            "not a: {not a}\n"
          ]
        }
      ]
    },
    {
      "cell_type": "code",
      "source": [
        "# 9. Write a Python program to convert user input from string to integer, float, and boolean types\n",
        "val=input(\"\")\n",
        "print(\"value is :\",val)\n",
        "try:\n",
        "  int_val=int(val)\n",
        "  print(\"integer value of\",val,\"is :\",int_val)\n",
        "except ValueError:\n",
        "    print(\"Cannot convert to integer\")\n",
        "try:\n",
        "    float_val = float(val)\n",
        "    print(\"Float value is:\", float_val)\n",
        "except ValueError:\n",
        "    print(\"Cannot convert to float\")\n",
        "print(bool(val))"
      ],
      "metadata": {
        "colab": {
          "base_uri": "https://localhost:8080/"
        },
        "id": "r01aI8v82xzG",
        "outputId": "c340b9c9-f017-4dc1-9b82-993bbf52b4d4"
      },
      "execution_count": 36,
      "outputs": [
        {
          "output_type": "stream",
          "name": "stdout",
          "text": [
            "ram\n",
            "value is : ram\n",
            "Cannot convert to integer\n",
            "Cannot convert to float\n",
            "True\n"
          ]
        }
      ]
    },
    {
      "cell_type": "code",
      "source": [
        "# 10.  Write code to demonstrate type casting with list elements\n",
        "val=input(\"enter list elements:\\n\")\n",
        "val_list = val.split(',')\n",
        "print(\"\\nList of elements:\\n\",val_list)\n",
        "\n",
        "int_val=[int(x) for x in val_list]\n",
        "print(\"\\nlist to integer:\\n\",int_val)\n",
        "\n",
        "float_val=[float(x) for x in val_list]\n",
        "print(\"\\nlist to float:\\n\",float_val)\n",
        "\n",
        "bool_val=[bool(x) for x in val_list]\n",
        "print(\"\\nlist to boolean:\\n\",bool_val)\n"
      ],
      "metadata": {
        "colab": {
          "base_uri": "https://localhost:8080/"
        },
        "id": "LsTGeaVY3WWI",
        "outputId": "bc9d0482-6604-4235-ab97-82fbbcf5ad64"
      },
      "execution_count": 50,
      "outputs": [
        {
          "output_type": "stream",
          "name": "stdout",
          "text": [
            "enter list elements:\n",
            "1,5,78,8,4,5,4,25,5\n",
            "\n",
            "List of elements:\n",
            " ['1', '5', '78', '8', '4', '5', '4', '25', '5']\n",
            "\n",
            "list to integer:\n",
            " [1, 5, 78, 8, 4, 5, 4, 25, 5]\n",
            "\n",
            "list to float:\n",
            " [1.0, 5.0, 78.0, 8.0, 4.0, 5.0, 4.0, 25.0, 5.0]\n",
            "\n",
            "list to boolean:\n",
            " [True, True, True, True, True, True, True, True, True]\n"
          ]
        }
      ]
    },
    {
      "cell_type": "code",
      "source": [
        "# 11. Write a program that checks if a number is positive, negative, or zero\n",
        "number=input(\"enter number:\\n\")\n",
        "if(int(number)>0):\n",
        "  print(\"number is positive\")\n",
        "elif(int(number)<0):\n",
        "  print(\"number is negative\")\n",
        "else:\n",
        "  print(\"number is zero\")"
      ],
      "metadata": {
        "colab": {
          "base_uri": "https://localhost:8080/"
        },
        "id": "mf3oJJZM6jwc",
        "outputId": "c67a5a25-946f-43a3-bd7a-b81769d651f5"
      },
      "execution_count": 52,
      "outputs": [
        {
          "output_type": "stream",
          "name": "stdout",
          "text": [
            "enter number:\n",
            "-10\n",
            "number is negative\n"
          ]
        }
      ]
    },
    {
      "cell_type": "code",
      "source": [
        "# 12. Write a for loop to print numbers from 1 to 10\n",
        "number=11\n",
        "for i in range(1,number):\n",
        "  print(i)"
      ],
      "metadata": {
        "colab": {
          "base_uri": "https://localhost:8080/"
        },
        "id": "QsphKRqo-yiy",
        "outputId": "becc059a-7f56-49f9-a1ac-893c3e9294c6"
      },
      "execution_count": 58,
      "outputs": [
        {
          "output_type": "stream",
          "name": "stdout",
          "text": [
            "1\n",
            "2\n",
            "3\n",
            "4\n",
            "5\n",
            "6\n",
            "7\n",
            "8\n",
            "9\n",
            "10\n"
          ]
        }
      ]
    },
    {
      "cell_type": "code",
      "source": [
        "# 13. Write a Python program to find the sum of all even numbers between 1 and 50\n",
        "numbe=51\n",
        "sum_of_even=0\n",
        "for i in range(1,number):\n",
        "  if(i%2==0):\n",
        "    sum_of_even +=i\n",
        "    print(\"\\nThe sum of all even is:\",sum_of_even)\n",
        "  else:\n",
        "    print(\"\\nodd\")"
      ],
      "metadata": {
        "colab": {
          "base_uri": "https://localhost:8080/"
        },
        "id": "SetT7kdX_CEC",
        "outputId": "06a33850-c5d7-41c2-e7e2-7cdf342387b7"
      },
      "execution_count": 72,
      "outputs": [
        {
          "output_type": "stream",
          "name": "stdout",
          "text": [
            "\n",
            "odd\n",
            "\n",
            "The sum of all even is: 2\n",
            "\n",
            "odd\n",
            "\n",
            "The sum of all even is: 6\n",
            "\n",
            "odd\n",
            "\n",
            "The sum of all even is: 12\n",
            "\n",
            "odd\n",
            "\n",
            "The sum of all even is: 20\n",
            "\n",
            "odd\n",
            "\n",
            "The sum of all even is: 30\n"
          ]
        }
      ]
    },
    {
      "cell_type": "code",
      "source": [
        "# 14. Write a program to reverse a string using a while loop.\n",
        "input_string=input(\"enter string:\\n\")\n",
        "def reverse(input_string):\n",
        "    reversed = \"\"\n",
        "    index = len(input_string) - 1  # Start from the last character\n",
        "\n",
        "    # While loop to iterate through the string in reverse\n",
        "    while index >= 0:\n",
        "        reversed += input_string[index]  # Add the current character to the reversed string\n",
        "        index -= 1  # Move to the previous character\n",
        "\n",
        "    return reversed\n",
        "result=reverse(input_string)\n",
        "print(\"reversed string is:\",result)\n"
      ],
      "metadata": {
        "colab": {
          "base_uri": "https://localhost:8080/"
        },
        "id": "6dgZ2hGPBLnZ",
        "outputId": "6863f955-2e09-47e0-c3a4-68fc0b9c754c"
      },
      "execution_count": 79,
      "outputs": [
        {
          "output_type": "stream",
          "name": "stdout",
          "text": [
            "enter string:\n",
            "venkata reddy\n",
            "reversed string is: ydder ataknev\n"
          ]
        }
      ]
    },
    {
      "cell_type": "code",
      "source": [
        "# 15. Write a Python program to calculate the factorial of a number provided by the user using a while loop\n",
        "# Function to calculate factorial using a while loop\n",
        "def calculate_factorial(number):\n",
        "    factorial = 1  # Initialize factorial to 1 (as factorial of 0 is 1)\n",
        "\n",
        "    while number > 0:\n",
        "        factorial *= number  # Multiply current number with the factorial\n",
        "        number -= 1  # Decrease the number by 1\n",
        "\n",
        "    return factorial\n",
        "\n",
        "# Get input from the user\n",
        "try:\n",
        "    user_input = int(input(\"Enter a number to calculate its factorial: \"))\n",
        "\n",
        "    # Check if the number is negative\n",
        "    if user_input < 0:\n",
        "        print(\"Factorial is not defined for negative numbers.\")\n",
        "    else:\n",
        "        result = calculate_factorial(user_input)\n",
        "        print(f\"The factorial of {user_input} is: {result}\")\n",
        "except ValueError:\n",
        "    print(\"Please enter a valid integer.\")\n"
      ],
      "metadata": {
        "colab": {
          "base_uri": "https://localhost:8080/"
        },
        "id": "LdkD6kK6EvUv",
        "outputId": "2d97230f-8d8d-43e9-f282-907f908b85eb"
      },
      "execution_count": 80,
      "outputs": [
        {
          "output_type": "stream",
          "name": "stdout",
          "text": [
            "Enter a number to calculate its factorial: 45\n",
            "The factorial of 45 is: 119622220865480194561963161495657715064383733760000000000\n"
          ]
        }
      ]
    },
    {
      "cell_type": "code",
      "source": [],
      "metadata": {
        "id": "aAV9fH8ZGCk2"
      },
      "execution_count": null,
      "outputs": []
    }
  ]
}